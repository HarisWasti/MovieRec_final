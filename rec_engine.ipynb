{
 "cells": [
  {
   "cell_type": "code",
   "execution_count": 1,
   "id": "d7c030af",
   "metadata": {},
   "outputs": [],
   "source": [
    "# rec_engine.py\n",
    "\n",
    "import numpy as np\n",
    "from sklearn.metrics.pairwise import cosine_similarity\n",
    "\n",
    "def search_movie(title_input, movie_meta):\n",
    "    title_input = title_input.lower()\n",
    "    filtered = movie_meta[movie_meta['title'].str.lower().str.contains(title_input, regex=False)]\n",
    "    return filtered['title'].iloc[0] if not filtered.empty else None\n",
    "\n",
    "def hybrid_recommendations(title_input, movie_meta, tfidf_matrix, user_movie_ratings, item_movie_matrix, knn, alpha=0.4):\n",
    "    title = search_movie(title_input, movie_meta)\n",
    "    if not title:\n",
    "        return [\"Movie title not found.\"]\n",
    "\n",
    "    idx = movie_meta[movie_meta['title'] == title].index[0]\n",
    "    movie_id = movie_meta.loc[idx, 'movieId']\n",
    "\n",
    "    content_sim = cosine_similarity(tfidf_matrix[idx], tfidf_matrix).flatten()\n",
    "    movie_idx_cf = user_movie_ratings.columns.get_loc(movie_id)\n",
    "    movie_vector = item_movie_matrix.values[movie_idx_cf].reshape(1, -1)\n",
    "    distances, indices_cf = knn.kneighbors(movie_vector, n_neighbors=11)\n",
    "\n",
    "    cf_scores = np.zeros_like(content_sim)\n",
    "    for i, cf_idx in enumerate(indices_cf.flatten()[1:]):\n",
    "        sim = 1 - distances.flatten()[i + 1]\n",
    "        cf_scores[cf_idx] = sim\n",
    "\n",
    "    content_sim /= content_sim.max()\n",
    "    cf_scores /= cf_scores.max() if cf_scores.max() != 0 else 1\n",
    "    hybrid_score = alpha * cf_scores + (1 - alpha) * content_sim\n",
    "    hybrid_score[idx] = -1\n",
    "\n",
    "    similar_indices = hybrid_score.argsort()[::-1][:10]\n",
    "    return movie_meta['title'].iloc[similar_indices].tolist()\n",
    "\n"
   ]
  },
  {
   "cell_type": "code",
   "execution_count": null,
   "id": "3181b3b8",
   "metadata": {},
   "outputs": [],
   "source": []
  }
 ],
 "metadata": {
  "kernelspec": {
   "display_name": "Python 3 (ipykernel)",
   "language": "python",
   "name": "python3"
  },
  "language_info": {
   "codemirror_mode": {
    "name": "ipython",
    "version": 3
   },
   "file_extension": ".py",
   "mimetype": "text/x-python",
   "name": "python",
   "nbconvert_exporter": "python",
   "pygments_lexer": "ipython3",
   "version": "3.11.5"
  }
 },
 "nbformat": 4,
 "nbformat_minor": 5
}
